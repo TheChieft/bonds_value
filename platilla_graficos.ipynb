{
 "cells": [
  {
   "cell_type": "code",
   "execution_count": 1,
   "metadata": {},
   "outputs": [],
   "source": [
    "import plotly.graph_objects as go\n",
    "import numpy as np\n",
    "\n",
    "def plot_capm_line(Rf, Rm, B):\n",
    "    '''\n",
    "    Parámetros:\n",
    "    Rf -> Tasa libre de riesgo\n",
    "    Rm -> Tasa de mercado\n",
    "    B -> Riesgo Sistemático\n",
    "\n",
    "    Ejemplo:\n",
    "\n",
    "    plot_capm_line(Rf=0.14, Rm=0.20, B=1.4)\n",
    "    '''\n",
    "    # Esto es por maña a que se vea más bonito jsjs\n",
    "    if B <= 4 and B >= 0:\n",
    "      beta_values = np.linspace(0, 4)\n",
    "    elif B<0 and B>=-3:\n",
    "      beta_values = np.linspace(0, -3)\n",
    "    else:\n",
    "      beta_values = np.linspace(0, B)\n",
    "\n",
    "    SML_values = Rf + beta_values * (Rm - Rf)\n",
    "\n",
    "    fig = go.Figure()\n",
    "\n",
    "    fig.add_trace(go.Scatter(x=beta_values, y=SML_values, mode='lines', line=dict(color='red' if B<0 or Rf>Rm else 'green', width=4), name='SML'))\n",
    "    # Agrega el punto de corte\n",
    "    fig.add_trace(go.Scatter(x=[B], y=[Rf + B * (Rm - Rf)], mode='markers', marker=dict(color='blue' if B<0 or Rf>Rm else 'red', size=10), name='Rentabilidad Esperada'))\n",
    "\n",
    "    fig.update_xaxes(tickcolor='white', tickfont=dict(color='white'),\n",
    "                     title=dict(text='Beta (Riesgo Sistemático)', font=dict(color='white')), dtick=0.4)\n",
    "    fig.update_yaxes(tickcolor='white', tickfont=dict(color='white'),\n",
    "                     title=dict(text='Rentabilidad Esperada', font=dict(color='white')), dtick= 0.02 if Rf!=Rm else 0.4 )\n",
    "\n",
    "    # Ajusta el título general\n",
    "    fig.update_layout(\n",
    "        title=dict(\n",
    "            text='CAPM - Capital Asset Pricing Model',\n",
    "            font=dict(color='white', size=20),\n",
    "            x=0.41,\n",
    "            y=0.9\n",
    "        ),\n",
    "        showlegend=True,\n",
    "        legend=dict(font=dict(color='white')),\n",
    "        width=700,\n",
    "        height=500\n",
    "    )\n",
    "\n",
    "    # Ajusta el diseño financiero\n",
    "    fig.update_layout(\n",
    "        paper_bgcolor='rgba(0,0,0,0)',  # Fondo del papel transparente\n",
    "        plot_bgcolor='rgba(0,0,0,0)',   # Fondo del gráfico transparente\n",
    "        xaxis_showgrid=True,\n",
    "        yaxis_showgrid=True,\n",
    "        xaxis_ticks='outside',\n",
    "        yaxis_ticks='outside',\n",
    "        xaxis_linecolor='white',\n",
    "        yaxis_linecolor='white',\n",
    "        showlegend=True,\n",
    "        xaxis_gridcolor='rgba(255, 255, 255, 0.1)',  # Color de la cuadrícula del eje x con alpha\n",
    "        yaxis_gridcolor='rgba(255, 255, 255, 0.1)'  # Color de la cuadrícula del eje x con alpha\n",
    "    )\n",
    "\n",
    "    fig.show()"
   ]
  },
  {
   "cell_type": "code",
   "execution_count": 2,
   "metadata": {},
   "outputs": [
    {
     "data": {
      "application/vnd.plotly.v1+json": {
       "config": {
        "plotlyServerURL": "https://plot.ly"
       },
       "data": [
        {
         "line": {
          "color": "green",
          "width": 4
         },
         "mode": "lines",
         "name": "SML",
         "type": "scatter",
         "x": [
          0,
          0.08163265306122448,
          0.16326530612244897,
          0.24489795918367346,
          0.32653061224489793,
          0.4081632653061224,
          0.4897959183673469,
          0.5714285714285714,
          0.6530612244897959,
          0.7346938775510203,
          0.8163265306122448,
          0.8979591836734693,
          0.9795918367346939,
          1.0612244897959182,
          1.1428571428571428,
          1.2244897959183672,
          1.3061224489795917,
          1.3877551020408163,
          1.4693877551020407,
          1.5510204081632653,
          1.6326530612244896,
          1.7142857142857142,
          1.7959183673469385,
          1.8775510204081631,
          1.9591836734693877,
          2.0408163265306123,
          2.1224489795918364,
          2.204081632653061,
          2.2857142857142856,
          2.36734693877551,
          2.4489795918367343,
          2.530612244897959,
          2.6122448979591835,
          2.693877551020408,
          2.7755102040816326,
          2.8571428571428568,
          2.9387755102040813,
          3.020408163265306,
          3.1020408163265305,
          3.1836734693877546,
          3.265306122448979,
          3.346938775510204,
          3.4285714285714284,
          3.510204081632653,
          3.591836734693877,
          3.6734693877551017,
          3.7551020408163263,
          3.836734693877551,
          3.9183673469387754,
          4
         ],
         "y": [
          0.12,
          0.12244897959183673,
          0.12489795918367347,
          0.1273469387755102,
          0.12979591836734694,
          0.13224489795918368,
          0.1346938775510204,
          0.13714285714285712,
          0.13959183673469389,
          0.1420408163265306,
          0.14448979591836733,
          0.14693877551020407,
          0.1493877551020408,
          0.15183673469387754,
          0.15428571428571428,
          0.156734693877551,
          0.15918367346938775,
          0.16163265306122448,
          0.16408163265306122,
          0.16653061224489796,
          0.16897959183673467,
          0.17142857142857143,
          0.17387755102040814,
          0.1763265306122449,
          0.1787755102040816,
          0.18122448979591838,
          0.18367346938775508,
          0.18612244897959182,
          0.18857142857142856,
          0.1910204081632653,
          0.19346938775510203,
          0.19591836734693877,
          0.1983673469387755,
          0.20081632653061224,
          0.20326530612244897,
          0.20571428571428568,
          0.20816326530612245,
          0.21061224489795916,
          0.21306122448979592,
          0.21551020408163263,
          0.21795918367346936,
          0.2204081632653061,
          0.22285714285714284,
          0.22530612244897957,
          0.2277551020408163,
          0.23020408163265305,
          0.23265306122448978,
          0.23510204081632652,
          0.23755102040816325,
          0.24
         ]
        },
        {
         "marker": {
          "color": "red",
          "size": 10
         },
         "mode": "markers",
         "name": "Rentabilidad Esperada",
         "type": "scatter",
         "x": [
          0.5
         ],
         "y": [
          0.135
         ]
        }
       ],
       "layout": {
        "height": 500,
        "legend": {
         "font": {
          "color": "white"
         }
        },
        "paper_bgcolor": "rgba(0,0,0,0)",
        "plot_bgcolor": "rgba(0,0,0,0)",
        "showlegend": true,
        "template": {
         "data": {
          "bar": [
           {
            "error_x": {
             "color": "#2a3f5f"
            },
            "error_y": {
             "color": "#2a3f5f"
            },
            "marker": {
             "line": {
              "color": "#E5ECF6",
              "width": 0.5
             },
             "pattern": {
              "fillmode": "overlay",
              "size": 10,
              "solidity": 0.2
             }
            },
            "type": "bar"
           }
          ],
          "barpolar": [
           {
            "marker": {
             "line": {
              "color": "#E5ECF6",
              "width": 0.5
             },
             "pattern": {
              "fillmode": "overlay",
              "size": 10,
              "solidity": 0.2
             }
            },
            "type": "barpolar"
           }
          ],
          "carpet": [
           {
            "aaxis": {
             "endlinecolor": "#2a3f5f",
             "gridcolor": "white",
             "linecolor": "white",
             "minorgridcolor": "white",
             "startlinecolor": "#2a3f5f"
            },
            "baxis": {
             "endlinecolor": "#2a3f5f",
             "gridcolor": "white",
             "linecolor": "white",
             "minorgridcolor": "white",
             "startlinecolor": "#2a3f5f"
            },
            "type": "carpet"
           }
          ],
          "choropleth": [
           {
            "colorbar": {
             "outlinewidth": 0,
             "ticks": ""
            },
            "type": "choropleth"
           }
          ],
          "contour": [
           {
            "colorbar": {
             "outlinewidth": 0,
             "ticks": ""
            },
            "colorscale": [
             [
              0,
              "#0d0887"
             ],
             [
              0.1111111111111111,
              "#46039f"
             ],
             [
              0.2222222222222222,
              "#7201a8"
             ],
             [
              0.3333333333333333,
              "#9c179e"
             ],
             [
              0.4444444444444444,
              "#bd3786"
             ],
             [
              0.5555555555555556,
              "#d8576b"
             ],
             [
              0.6666666666666666,
              "#ed7953"
             ],
             [
              0.7777777777777778,
              "#fb9f3a"
             ],
             [
              0.8888888888888888,
              "#fdca26"
             ],
             [
              1,
              "#f0f921"
             ]
            ],
            "type": "contour"
           }
          ],
          "contourcarpet": [
           {
            "colorbar": {
             "outlinewidth": 0,
             "ticks": ""
            },
            "type": "contourcarpet"
           }
          ],
          "heatmap": [
           {
            "colorbar": {
             "outlinewidth": 0,
             "ticks": ""
            },
            "colorscale": [
             [
              0,
              "#0d0887"
             ],
             [
              0.1111111111111111,
              "#46039f"
             ],
             [
              0.2222222222222222,
              "#7201a8"
             ],
             [
              0.3333333333333333,
              "#9c179e"
             ],
             [
              0.4444444444444444,
              "#bd3786"
             ],
             [
              0.5555555555555556,
              "#d8576b"
             ],
             [
              0.6666666666666666,
              "#ed7953"
             ],
             [
              0.7777777777777778,
              "#fb9f3a"
             ],
             [
              0.8888888888888888,
              "#fdca26"
             ],
             [
              1,
              "#f0f921"
             ]
            ],
            "type": "heatmap"
           }
          ],
          "heatmapgl": [
           {
            "colorbar": {
             "outlinewidth": 0,
             "ticks": ""
            },
            "colorscale": [
             [
              0,
              "#0d0887"
             ],
             [
              0.1111111111111111,
              "#46039f"
             ],
             [
              0.2222222222222222,
              "#7201a8"
             ],
             [
              0.3333333333333333,
              "#9c179e"
             ],
             [
              0.4444444444444444,
              "#bd3786"
             ],
             [
              0.5555555555555556,
              "#d8576b"
             ],
             [
              0.6666666666666666,
              "#ed7953"
             ],
             [
              0.7777777777777778,
              "#fb9f3a"
             ],
             [
              0.8888888888888888,
              "#fdca26"
             ],
             [
              1,
              "#f0f921"
             ]
            ],
            "type": "heatmapgl"
           }
          ],
          "histogram": [
           {
            "marker": {
             "pattern": {
              "fillmode": "overlay",
              "size": 10,
              "solidity": 0.2
             }
            },
            "type": "histogram"
           }
          ],
          "histogram2d": [
           {
            "colorbar": {
             "outlinewidth": 0,
             "ticks": ""
            },
            "colorscale": [
             [
              0,
              "#0d0887"
             ],
             [
              0.1111111111111111,
              "#46039f"
             ],
             [
              0.2222222222222222,
              "#7201a8"
             ],
             [
              0.3333333333333333,
              "#9c179e"
             ],
             [
              0.4444444444444444,
              "#bd3786"
             ],
             [
              0.5555555555555556,
              "#d8576b"
             ],
             [
              0.6666666666666666,
              "#ed7953"
             ],
             [
              0.7777777777777778,
              "#fb9f3a"
             ],
             [
              0.8888888888888888,
              "#fdca26"
             ],
             [
              1,
              "#f0f921"
             ]
            ],
            "type": "histogram2d"
           }
          ],
          "histogram2dcontour": [
           {
            "colorbar": {
             "outlinewidth": 0,
             "ticks": ""
            },
            "colorscale": [
             [
              0,
              "#0d0887"
             ],
             [
              0.1111111111111111,
              "#46039f"
             ],
             [
              0.2222222222222222,
              "#7201a8"
             ],
             [
              0.3333333333333333,
              "#9c179e"
             ],
             [
              0.4444444444444444,
              "#bd3786"
             ],
             [
              0.5555555555555556,
              "#d8576b"
             ],
             [
              0.6666666666666666,
              "#ed7953"
             ],
             [
              0.7777777777777778,
              "#fb9f3a"
             ],
             [
              0.8888888888888888,
              "#fdca26"
             ],
             [
              1,
              "#f0f921"
             ]
            ],
            "type": "histogram2dcontour"
           }
          ],
          "mesh3d": [
           {
            "colorbar": {
             "outlinewidth": 0,
             "ticks": ""
            },
            "type": "mesh3d"
           }
          ],
          "parcoords": [
           {
            "line": {
             "colorbar": {
              "outlinewidth": 0,
              "ticks": ""
             }
            },
            "type": "parcoords"
           }
          ],
          "pie": [
           {
            "automargin": true,
            "type": "pie"
           }
          ],
          "scatter": [
           {
            "fillpattern": {
             "fillmode": "overlay",
             "size": 10,
             "solidity": 0.2
            },
            "type": "scatter"
           }
          ],
          "scatter3d": [
           {
            "line": {
             "colorbar": {
              "outlinewidth": 0,
              "ticks": ""
             }
            },
            "marker": {
             "colorbar": {
              "outlinewidth": 0,
              "ticks": ""
             }
            },
            "type": "scatter3d"
           }
          ],
          "scattercarpet": [
           {
            "marker": {
             "colorbar": {
              "outlinewidth": 0,
              "ticks": ""
             }
            },
            "type": "scattercarpet"
           }
          ],
          "scattergeo": [
           {
            "marker": {
             "colorbar": {
              "outlinewidth": 0,
              "ticks": ""
             }
            },
            "type": "scattergeo"
           }
          ],
          "scattergl": [
           {
            "marker": {
             "colorbar": {
              "outlinewidth": 0,
              "ticks": ""
             }
            },
            "type": "scattergl"
           }
          ],
          "scattermapbox": [
           {
            "marker": {
             "colorbar": {
              "outlinewidth": 0,
              "ticks": ""
             }
            },
            "type": "scattermapbox"
           }
          ],
          "scatterpolar": [
           {
            "marker": {
             "colorbar": {
              "outlinewidth": 0,
              "ticks": ""
             }
            },
            "type": "scatterpolar"
           }
          ],
          "scatterpolargl": [
           {
            "marker": {
             "colorbar": {
              "outlinewidth": 0,
              "ticks": ""
             }
            },
            "type": "scatterpolargl"
           }
          ],
          "scatterternary": [
           {
            "marker": {
             "colorbar": {
              "outlinewidth": 0,
              "ticks": ""
             }
            },
            "type": "scatterternary"
           }
          ],
          "surface": [
           {
            "colorbar": {
             "outlinewidth": 0,
             "ticks": ""
            },
            "colorscale": [
             [
              0,
              "#0d0887"
             ],
             [
              0.1111111111111111,
              "#46039f"
             ],
             [
              0.2222222222222222,
              "#7201a8"
             ],
             [
              0.3333333333333333,
              "#9c179e"
             ],
             [
              0.4444444444444444,
              "#bd3786"
             ],
             [
              0.5555555555555556,
              "#d8576b"
             ],
             [
              0.6666666666666666,
              "#ed7953"
             ],
             [
              0.7777777777777778,
              "#fb9f3a"
             ],
             [
              0.8888888888888888,
              "#fdca26"
             ],
             [
              1,
              "#f0f921"
             ]
            ],
            "type": "surface"
           }
          ],
          "table": [
           {
            "cells": {
             "fill": {
              "color": "#EBF0F8"
             },
             "line": {
              "color": "white"
             }
            },
            "header": {
             "fill": {
              "color": "#C8D4E3"
             },
             "line": {
              "color": "white"
             }
            },
            "type": "table"
           }
          ]
         },
         "layout": {
          "annotationdefaults": {
           "arrowcolor": "#2a3f5f",
           "arrowhead": 0,
           "arrowwidth": 1
          },
          "autotypenumbers": "strict",
          "coloraxis": {
           "colorbar": {
            "outlinewidth": 0,
            "ticks": ""
           }
          },
          "colorscale": {
           "diverging": [
            [
             0,
             "#8e0152"
            ],
            [
             0.1,
             "#c51b7d"
            ],
            [
             0.2,
             "#de77ae"
            ],
            [
             0.3,
             "#f1b6da"
            ],
            [
             0.4,
             "#fde0ef"
            ],
            [
             0.5,
             "#f7f7f7"
            ],
            [
             0.6,
             "#e6f5d0"
            ],
            [
             0.7,
             "#b8e186"
            ],
            [
             0.8,
             "#7fbc41"
            ],
            [
             0.9,
             "#4d9221"
            ],
            [
             1,
             "#276419"
            ]
           ],
           "sequential": [
            [
             0,
             "#0d0887"
            ],
            [
             0.1111111111111111,
             "#46039f"
            ],
            [
             0.2222222222222222,
             "#7201a8"
            ],
            [
             0.3333333333333333,
             "#9c179e"
            ],
            [
             0.4444444444444444,
             "#bd3786"
            ],
            [
             0.5555555555555556,
             "#d8576b"
            ],
            [
             0.6666666666666666,
             "#ed7953"
            ],
            [
             0.7777777777777778,
             "#fb9f3a"
            ],
            [
             0.8888888888888888,
             "#fdca26"
            ],
            [
             1,
             "#f0f921"
            ]
           ],
           "sequentialminus": [
            [
             0,
             "#0d0887"
            ],
            [
             0.1111111111111111,
             "#46039f"
            ],
            [
             0.2222222222222222,
             "#7201a8"
            ],
            [
             0.3333333333333333,
             "#9c179e"
            ],
            [
             0.4444444444444444,
             "#bd3786"
            ],
            [
             0.5555555555555556,
             "#d8576b"
            ],
            [
             0.6666666666666666,
             "#ed7953"
            ],
            [
             0.7777777777777778,
             "#fb9f3a"
            ],
            [
             0.8888888888888888,
             "#fdca26"
            ],
            [
             1,
             "#f0f921"
            ]
           ]
          },
          "colorway": [
           "#636efa",
           "#EF553B",
           "#00cc96",
           "#ab63fa",
           "#FFA15A",
           "#19d3f3",
           "#FF6692",
           "#B6E880",
           "#FF97FF",
           "#FECB52"
          ],
          "font": {
           "color": "#2a3f5f"
          },
          "geo": {
           "bgcolor": "white",
           "lakecolor": "white",
           "landcolor": "#E5ECF6",
           "showlakes": true,
           "showland": true,
           "subunitcolor": "white"
          },
          "hoverlabel": {
           "align": "left"
          },
          "hovermode": "closest",
          "mapbox": {
           "style": "light"
          },
          "paper_bgcolor": "white",
          "plot_bgcolor": "#E5ECF6",
          "polar": {
           "angularaxis": {
            "gridcolor": "white",
            "linecolor": "white",
            "ticks": ""
           },
           "bgcolor": "#E5ECF6",
           "radialaxis": {
            "gridcolor": "white",
            "linecolor": "white",
            "ticks": ""
           }
          },
          "scene": {
           "xaxis": {
            "backgroundcolor": "#E5ECF6",
            "gridcolor": "white",
            "gridwidth": 2,
            "linecolor": "white",
            "showbackground": true,
            "ticks": "",
            "zerolinecolor": "white"
           },
           "yaxis": {
            "backgroundcolor": "#E5ECF6",
            "gridcolor": "white",
            "gridwidth": 2,
            "linecolor": "white",
            "showbackground": true,
            "ticks": "",
            "zerolinecolor": "white"
           },
           "zaxis": {
            "backgroundcolor": "#E5ECF6",
            "gridcolor": "white",
            "gridwidth": 2,
            "linecolor": "white",
            "showbackground": true,
            "ticks": "",
            "zerolinecolor": "white"
           }
          },
          "shapedefaults": {
           "line": {
            "color": "#2a3f5f"
           }
          },
          "ternary": {
           "aaxis": {
            "gridcolor": "white",
            "linecolor": "white",
            "ticks": ""
           },
           "baxis": {
            "gridcolor": "white",
            "linecolor": "white",
            "ticks": ""
           },
           "bgcolor": "#E5ECF6",
           "caxis": {
            "gridcolor": "white",
            "linecolor": "white",
            "ticks": ""
           }
          },
          "title": {
           "x": 0.05
          },
          "xaxis": {
           "automargin": true,
           "gridcolor": "white",
           "linecolor": "white",
           "ticks": "",
           "title": {
            "standoff": 15
           },
           "zerolinecolor": "white",
           "zerolinewidth": 2
          },
          "yaxis": {
           "automargin": true,
           "gridcolor": "white",
           "linecolor": "white",
           "ticks": "",
           "title": {
            "standoff": 15
           },
           "zerolinecolor": "white",
           "zerolinewidth": 2
          }
         }
        },
        "title": {
         "font": {
          "color": "white",
          "size": 20
         },
         "text": "CAPM - Capital Asset Pricing Model",
         "x": 0.41,
         "y": 0.9
        },
        "width": 700,
        "xaxis": {
         "dtick": 0.4,
         "gridcolor": "rgba(255, 255, 255, 0.1)",
         "linecolor": "white",
         "showgrid": true,
         "tickcolor": "white",
         "tickfont": {
          "color": "white"
         },
         "ticks": "outside",
         "title": {
          "font": {
           "color": "white"
          },
          "text": "Beta (Riesgo Sistemático)"
         }
        },
        "yaxis": {
         "dtick": 0.02,
         "gridcolor": "rgba(255, 255, 255, 0.1)",
         "linecolor": "white",
         "showgrid": true,
         "tickcolor": "white",
         "tickfont": {
          "color": "white"
         },
         "ticks": "outside",
         "title": {
          "font": {
           "color": "white"
          },
          "text": "Rentabilidad Esperada"
         }
        }
       }
      }
     },
     "metadata": {},
     "output_type": "display_data"
    }
   ],
   "source": [
    "#plot_capm_line(Rf=0.12, Rm=0.15, B=beta_values_df)"
   ]
  },
  {
   "cell_type": "code",
   "execution_count": 2,
   "metadata": {},
   "outputs": [],
   "source": [
    "import yfinance as yf\n",
    "import pandas as pd\n",
    "from scipy.stats import linregress\n",
    "import statsmodels.api as sm\n",
    "import datetime\n",
    "\n",
    "def get_stock_data(ticker, start_date, end_date):\n",
    "    data = yf.download(ticker, start=start_date,\n",
    "                       end=end_date, interval='1mo')['Adj Close']\n",
    "    data_df = pd.DataFrame(data)\n",
    "    # Asignar el nombre de la columna como una lista\n",
    "    data_df.columns = [ticker]\n",
    "    return data_df\n",
    "\n",
    "\n",
    "def get_stock_cumulative_returns(ticker, start_date, end_date):\n",
    "\n",
    "    stock_prices = get_stock_data(ticker, start_date, end_date)\n",
    "    if stock_prices.empty or len(stock_prices) == 1:\n",
    "        # La secuencia está vacía o tiene solo un elemento, no se pueden calcular los retornos\n",
    "        return pd.Series(index=stock_prices.index, data=0.0)\n",
    "    stock_returns = stock_prices.pct_change().dropna()\n",
    "    stock_cumulative_returns = (1 + stock_returns).cumprod() - 1\n",
    "    return stock_cumulative_returns\n",
    "\n",
    "\n",
    "def calculate_capm(ticker, market_ticker, start_date, end_date):\n",
    "\n",
    "    stock = get_stock_data(ticker, start_date, end_date)\n",
    "    market = get_stock_data(market_ticker, start_date, end_date)\n",
    "\n",
    "    # Calcular rendimientos logarítmicos\n",
    "    stock_returns = np.log(stock / stock.shift(1))\n",
    "    market_returns = np.log(market / market.shift(1))\n",
    "\n",
    "    # Calcular el rendimiento promedio del mercado\n",
    "    average_market_return = market_returns.mean()\n",
    "\n",
    "    alpha_jensen = None\n",
    "    beta_value = None\n",
    "    regression_data = None\n",
    "\n",
    "    X = market_returns[1:]  # Excluir el primer NaN\n",
    "    y = stock_returns[ticker][1:]  # Excluir el primer NaN\n",
    "    X = sm.add_constant(X)  # Añadir constante para el término alpha\n",
    "\n",
    "    # Estimar CAPM: rendimiento_stock ~ alpha + beta * rendimiento_benchmark\n",
    "    model = sm.OLS(y, X, missing='drop').fit()\n",
    "    alpha_jensen = model.params[0]  # Alpha de Jensen\n",
    "    beta_value = model.params[1]   # Beta\n",
    "\n",
    "    # Almacenar datos de la regresión para la gráfica\n",
    "    regression_data = {\n",
    "        'X': X['const'].tolist(), 'y': model.fittedvalues.tolist()}\n",
    "\n",
    "    return alpha_jensen, beta_value, regression_data, average_market_return"
   ]
  },
  {
   "cell_type": "code",
   "execution_count": 98,
   "metadata": {},
   "outputs": [],
   "source": [
    "import plotly.graph_objects as go\n",
    "import numpy as np\n",
    "\n",
    "def plot_capm_line():\n",
    "    '''\n",
    "    Parámetros:\n",
    "    Rf -> Tasa libre de riesgo\n",
    "    Rm -> Tasa de mercado\n",
    "    B -> Riesgo Sistemático\n",
    "\n",
    "    Ejemplo:\n",
    "\n",
    "    plot_capm_line(Rf=0.14, Rm=0.20, B=1.4)\n",
    "    '''\n",
    "    # Esto es por maña a que se vea más bonito jsjs\n",
    "    end_date = datetime.datetime(2024, 2, 9)  # datetime.datetime.now()\n",
    "    start_date = end_date - datetime.timedelta(days=5*365)\n",
    "    alpha_jensen_df, beta_values_df, regression_data = calculate_capm('AAPL', '^GSPC', start_date, end_date)\n",
    "\n",
    "    fig = go.Figure()\n",
    "\n",
    "    fig.add_trace(go.Scatter(x=regression_data['X'], y=regression_data['y'], mode='lines', line=dict(color='red' if beta_values_df<0 else 'green', width=4), name='SML'))\n",
    "    # Agrega el punto de cortedata_regressi\n",
    "    fig.add_trace(go.Scatter(x=regression_data['X'], y=regression_data['y'], mode='markers', marker=dict(color='blue' if beta_values_df<0 else 'red', size=10), name='Rentabilidad Esperada'))\n",
    "\n",
    "    fig.update_xaxes(tickcolor='white', tickfont=dict(color='white'),\n",
    "                     title=dict(text='Beta (Riesgo Sistemático)', font=dict(color='white')), dtick=0.4)\n",
    "    fig.update_yaxes(tickcolor='white', tickfont=dict(color='white'),\n",
    "                     title=dict(text='Rentabilidad Esperada', font=dict(color='white')), dtick= 0.02 if Rf!=Rm else 0.4 )\n",
    "\n",
    "    # Ajusta el título general\n",
    "    fig.update_layout(\n",
    "        title=dict(\n",
    "            text='CAPM - Capital Asset Pricing Model',\n",
    "            font=dict(color='white', size=20),\n",
    "            x=0.41,\n",
    "            y=0.9\n",
    "        ),\n",
    "        showlegend=True,\n",
    "        legend=dict(font=dict(color='white')),\n",
    "        width=700,\n",
    "        height=500\n",
    "    )\n",
    "\n",
    "    # Ajusta el diseño financiero\n",
    "    fig.update_layout(\n",
    "        paper_bgcolor='rgba(0,0,0,0)',  # Fondo del papel transparente\n",
    "        plot_bgcolor='rgba(0,0,0,0)',   # Fondo del gráfico transparente\n",
    "        xaxis_showgrid=True,\n",
    "        yaxis_showgrid=True,\n",
    "        xaxis_ticks='outside',\n",
    "        yaxis_ticks='outside',\n",
    "        xaxis_linecolor='white',\n",
    "        yaxis_linecolor='white',\n",
    "        showlegend=True,\n",
    "        xaxis_gridcolor='rgba(255, 255, 255, 0.1)',  # Color de la cuadrícula del eje x con alpha\n",
    "        yaxis_gridcolor='rgba(255, 255, 255, 0.1)'  # Color de la cuadrícula del eje x con alpha\n",
    "    )\n",
    "\n",
    "    fig.show()"
   ]
  },
  {
   "cell_type": "code",
   "execution_count": 14,
   "metadata": {},
   "outputs": [
    {
     "name": "stderr",
     "output_type": "stream",
     "text": [
      "[*********************100%%**********************]  1 of 1 completed\n",
      "[*********************100%%**********************]  1 of 1 completed\n",
      "/tmp/ipykernel_6957/3121553002.py:49: FutureWarning:\n",
      "\n",
      "Series.__getitem__ treating keys as positions is deprecated. In a future version, integer keys will always be treated as labels (consistent with DataFrame behavior). To access a value by position, use `ser.iloc[pos]`\n",
      "\n",
      "/tmp/ipykernel_6957/3121553002.py:50: FutureWarning:\n",
      "\n",
      "Series.__getitem__ treating keys as positions is deprecated. In a future version, integer keys will always be treated as labels (consistent with DataFrame behavior). To access a value by position, use `ser.iloc[pos]`\n",
      "\n"
     ]
    }
   ],
   "source": [
    "end_date = datetime.datetime(2024, 2, 9)  # datetime.datetime.now()\n",
    "start_date = end_date - datetime.timedelta(days=5*365)\n",
    "alpha_jensen_df, beta_values_df, regression_data, Rm = calculate_capm('MSFT', '^GSPC', start_date, end_date)"
   ]
  },
  {
   "cell_type": "code",
   "execution_count": 87,
   "metadata": {},
   "outputs": [
    {
     "data": {
      "text/plain": [
       "^GSPC    0.00971\n",
       "dtype: float64"
      ]
     },
     "execution_count": 87,
     "metadata": {},
     "output_type": "execute_result"
    }
   ],
   "source": []
  },
  {
   "cell_type": "code",
   "execution_count": 11,
   "metadata": {},
   "outputs": [
    {
     "name": "stderr",
     "output_type": "stream",
     "text": [
      "/tmp/ipykernel_6957/3731698670.py:1: FutureWarning: Calling float on a single element Series is deprecated and will raise a TypeError in the future. Use float(ser.iloc[0]) instead\n",
      "  float(Rm).value\n"
     ]
    },
    {
     "ename": "AttributeError",
     "evalue": "'float' object has no attribute 'value'",
     "output_type": "error",
     "traceback": [
      "\u001b[0;31m---------------------------------------------------------------------------\u001b[0m",
      "\u001b[0;31mAttributeError\u001b[0m                            Traceback (most recent call last)",
      "Cell \u001b[0;32mIn[11], line 1\u001b[0m\n\u001b[0;32m----> 1\u001b[0m \u001b[38;5;28;43mfloat\u001b[39;49m\u001b[43m(\u001b[49m\u001b[43mRm\u001b[49m\u001b[43m)\u001b[49m\u001b[38;5;241;43m.\u001b[39;49m\u001b[43mvalue\u001b[49m\n",
      "\u001b[0;31mAttributeError\u001b[0m: 'float' object has no attribute 'value'"
     ]
    }
   ],
   "source": [
    "float(Rm)"
   ]
  },
  {
   "cell_type": "code",
   "execution_count": 12,
   "metadata": {},
   "outputs": [
    {
     "name": "stderr",
     "output_type": "stream",
     "text": [
      "/tmp/ipykernel_6957/1963279026.py:1: FutureWarning: Calling float on a single element Series is deprecated and will raise a TypeError in the future. Use float(ser.iloc[0]) instead\n",
      "  plot_capm_line(Rf=alpha_jensen_df, Rm=float(Rm), B=beta_values_df)\n"
     ]
    },
    {
     "data": {
      "application/vnd.plotly.v1+json": {
       "config": {
        "plotlyServerURL": "https://plot.ly"
       },
       "data": [
        {
         "line": {
          "color": "red",
          "width": 4
         },
         "mode": "lines",
         "name": "SML",
         "type": "scatter",
         "x": [
          0,
          0.08163265306122448,
          0.16326530612244897,
          0.24489795918367346,
          0.32653061224489793,
          0.4081632653061224,
          0.4897959183673469,
          0.5714285714285714,
          0.6530612244897959,
          0.7346938775510203,
          0.8163265306122448,
          0.8979591836734693,
          0.9795918367346939,
          1.0612244897959182,
          1.1428571428571428,
          1.2244897959183672,
          1.3061224489795917,
          1.3877551020408163,
          1.4693877551020407,
          1.5510204081632653,
          1.6326530612244896,
          1.7142857142857142,
          1.7959183673469385,
          1.8775510204081631,
          1.9591836734693877,
          2.0408163265306123,
          2.1224489795918364,
          2.204081632653061,
          2.2857142857142856,
          2.36734693877551,
          2.4489795918367343,
          2.530612244897959,
          2.6122448979591835,
          2.693877551020408,
          2.7755102040816326,
          2.8571428571428568,
          2.9387755102040813,
          3.020408163265306,
          3.1020408163265305,
          3.1836734693877546,
          3.265306122448979,
          3.346938775510204,
          3.4285714285714284,
          3.510204081632653,
          3.591836734693877,
          3.6734693877551017,
          3.7551020408163263,
          3.836734693877551,
          3.9183673469387754,
          4
         ],
         "y": [
          0.011555862996735868,
          0.01140521563114197,
          0.011254568265548074,
          0.011103920899954177,
          0.010953273534360281,
          0.010802626168766384,
          0.010651978803172488,
          0.01050133143757859,
          0.010350684071984695,
          0.010200036706390797,
          0.010049389340796902,
          0.009898741975203004,
          0.009748094609609109,
          0.009597447244015211,
          0.009446799878421315,
          0.009296152512827418,
          0.009145505147233522,
          0.008994857781639625,
          0.008844210416045727,
          0.008693563050451832,
          0.008542915684857936,
          0.008392268319264038,
          0.008241620953670141,
          0.008090973588076245,
          0.007940326222482348,
          0.007789678856888452,
          0.0076390314912945555,
          0.007488384125700659,
          0.007337736760106762,
          0.007187089394512865,
          0.007036442028918969,
          0.006885794663325073,
          0.006735147297731175,
          0.0065844999321372786,
          0.006433852566543382,
          0.006283205200949486,
          0.006132557835355589,
          0.005981910469761692,
          0.005831263104167796,
          0.0056806157385739,
          0.0055299683729800025,
          0.005379321007386106,
          0.005228673641792209,
          0.005078026276198313,
          0.004927378910604416,
          0.0047767315450105196,
          0.004626084179416623,
          0.004475436813822726,
          0.004324789448228829,
          0.004174142082634932
         ]
        },
        {
         "marker": {
          "color": "blue",
          "size": 10
         },
         "mode": "markers",
         "name": "Rentabilidad Esperada",
         "type": "scatter",
         "x": [
          1.2836621624588331
         ],
         "y": [
          0.009186954038920267
         ]
        }
       ],
       "layout": {
        "height": 500,
        "legend": {
         "font": {
          "color": "white"
         }
        },
        "paper_bgcolor": "rgba(0,0,0,0)",
        "plot_bgcolor": "rgba(0,0,0,0)",
        "showlegend": true,
        "template": {
         "data": {
          "bar": [
           {
            "error_x": {
             "color": "#2a3f5f"
            },
            "error_y": {
             "color": "#2a3f5f"
            },
            "marker": {
             "line": {
              "color": "#E5ECF6",
              "width": 0.5
             },
             "pattern": {
              "fillmode": "overlay",
              "size": 10,
              "solidity": 0.2
             }
            },
            "type": "bar"
           }
          ],
          "barpolar": [
           {
            "marker": {
             "line": {
              "color": "#E5ECF6",
              "width": 0.5
             },
             "pattern": {
              "fillmode": "overlay",
              "size": 10,
              "solidity": 0.2
             }
            },
            "type": "barpolar"
           }
          ],
          "carpet": [
           {
            "aaxis": {
             "endlinecolor": "#2a3f5f",
             "gridcolor": "white",
             "linecolor": "white",
             "minorgridcolor": "white",
             "startlinecolor": "#2a3f5f"
            },
            "baxis": {
             "endlinecolor": "#2a3f5f",
             "gridcolor": "white",
             "linecolor": "white",
             "minorgridcolor": "white",
             "startlinecolor": "#2a3f5f"
            },
            "type": "carpet"
           }
          ],
          "choropleth": [
           {
            "colorbar": {
             "outlinewidth": 0,
             "ticks": ""
            },
            "type": "choropleth"
           }
          ],
          "contour": [
           {
            "colorbar": {
             "outlinewidth": 0,
             "ticks": ""
            },
            "colorscale": [
             [
              0,
              "#0d0887"
             ],
             [
              0.1111111111111111,
              "#46039f"
             ],
             [
              0.2222222222222222,
              "#7201a8"
             ],
             [
              0.3333333333333333,
              "#9c179e"
             ],
             [
              0.4444444444444444,
              "#bd3786"
             ],
             [
              0.5555555555555556,
              "#d8576b"
             ],
             [
              0.6666666666666666,
              "#ed7953"
             ],
             [
              0.7777777777777778,
              "#fb9f3a"
             ],
             [
              0.8888888888888888,
              "#fdca26"
             ],
             [
              1,
              "#f0f921"
             ]
            ],
            "type": "contour"
           }
          ],
          "contourcarpet": [
           {
            "colorbar": {
             "outlinewidth": 0,
             "ticks": ""
            },
            "type": "contourcarpet"
           }
          ],
          "heatmap": [
           {
            "colorbar": {
             "outlinewidth": 0,
             "ticks": ""
            },
            "colorscale": [
             [
              0,
              "#0d0887"
             ],
             [
              0.1111111111111111,
              "#46039f"
             ],
             [
              0.2222222222222222,
              "#7201a8"
             ],
             [
              0.3333333333333333,
              "#9c179e"
             ],
             [
              0.4444444444444444,
              "#bd3786"
             ],
             [
              0.5555555555555556,
              "#d8576b"
             ],
             [
              0.6666666666666666,
              "#ed7953"
             ],
             [
              0.7777777777777778,
              "#fb9f3a"
             ],
             [
              0.8888888888888888,
              "#fdca26"
             ],
             [
              1,
              "#f0f921"
             ]
            ],
            "type": "heatmap"
           }
          ],
          "heatmapgl": [
           {
            "colorbar": {
             "outlinewidth": 0,
             "ticks": ""
            },
            "colorscale": [
             [
              0,
              "#0d0887"
             ],
             [
              0.1111111111111111,
              "#46039f"
             ],
             [
              0.2222222222222222,
              "#7201a8"
             ],
             [
              0.3333333333333333,
              "#9c179e"
             ],
             [
              0.4444444444444444,
              "#bd3786"
             ],
             [
              0.5555555555555556,
              "#d8576b"
             ],
             [
              0.6666666666666666,
              "#ed7953"
             ],
             [
              0.7777777777777778,
              "#fb9f3a"
             ],
             [
              0.8888888888888888,
              "#fdca26"
             ],
             [
              1,
              "#f0f921"
             ]
            ],
            "type": "heatmapgl"
           }
          ],
          "histogram": [
           {
            "marker": {
             "pattern": {
              "fillmode": "overlay",
              "size": 10,
              "solidity": 0.2
             }
            },
            "type": "histogram"
           }
          ],
          "histogram2d": [
           {
            "colorbar": {
             "outlinewidth": 0,
             "ticks": ""
            },
            "colorscale": [
             [
              0,
              "#0d0887"
             ],
             [
              0.1111111111111111,
              "#46039f"
             ],
             [
              0.2222222222222222,
              "#7201a8"
             ],
             [
              0.3333333333333333,
              "#9c179e"
             ],
             [
              0.4444444444444444,
              "#bd3786"
             ],
             [
              0.5555555555555556,
              "#d8576b"
             ],
             [
              0.6666666666666666,
              "#ed7953"
             ],
             [
              0.7777777777777778,
              "#fb9f3a"
             ],
             [
              0.8888888888888888,
              "#fdca26"
             ],
             [
              1,
              "#f0f921"
             ]
            ],
            "type": "histogram2d"
           }
          ],
          "histogram2dcontour": [
           {
            "colorbar": {
             "outlinewidth": 0,
             "ticks": ""
            },
            "colorscale": [
             [
              0,
              "#0d0887"
             ],
             [
              0.1111111111111111,
              "#46039f"
             ],
             [
              0.2222222222222222,
              "#7201a8"
             ],
             [
              0.3333333333333333,
              "#9c179e"
             ],
             [
              0.4444444444444444,
              "#bd3786"
             ],
             [
              0.5555555555555556,
              "#d8576b"
             ],
             [
              0.6666666666666666,
              "#ed7953"
             ],
             [
              0.7777777777777778,
              "#fb9f3a"
             ],
             [
              0.8888888888888888,
              "#fdca26"
             ],
             [
              1,
              "#f0f921"
             ]
            ],
            "type": "histogram2dcontour"
           }
          ],
          "mesh3d": [
           {
            "colorbar": {
             "outlinewidth": 0,
             "ticks": ""
            },
            "type": "mesh3d"
           }
          ],
          "parcoords": [
           {
            "line": {
             "colorbar": {
              "outlinewidth": 0,
              "ticks": ""
             }
            },
            "type": "parcoords"
           }
          ],
          "pie": [
           {
            "automargin": true,
            "type": "pie"
           }
          ],
          "scatter": [
           {
            "fillpattern": {
             "fillmode": "overlay",
             "size": 10,
             "solidity": 0.2
            },
            "type": "scatter"
           }
          ],
          "scatter3d": [
           {
            "line": {
             "colorbar": {
              "outlinewidth": 0,
              "ticks": ""
             }
            },
            "marker": {
             "colorbar": {
              "outlinewidth": 0,
              "ticks": ""
             }
            },
            "type": "scatter3d"
           }
          ],
          "scattercarpet": [
           {
            "marker": {
             "colorbar": {
              "outlinewidth": 0,
              "ticks": ""
             }
            },
            "type": "scattercarpet"
           }
          ],
          "scattergeo": [
           {
            "marker": {
             "colorbar": {
              "outlinewidth": 0,
              "ticks": ""
             }
            },
            "type": "scattergeo"
           }
          ],
          "scattergl": [
           {
            "marker": {
             "colorbar": {
              "outlinewidth": 0,
              "ticks": ""
             }
            },
            "type": "scattergl"
           }
          ],
          "scattermapbox": [
           {
            "marker": {
             "colorbar": {
              "outlinewidth": 0,
              "ticks": ""
             }
            },
            "type": "scattermapbox"
           }
          ],
          "scatterpolar": [
           {
            "marker": {
             "colorbar": {
              "outlinewidth": 0,
              "ticks": ""
             }
            },
            "type": "scatterpolar"
           }
          ],
          "scatterpolargl": [
           {
            "marker": {
             "colorbar": {
              "outlinewidth": 0,
              "ticks": ""
             }
            },
            "type": "scatterpolargl"
           }
          ],
          "scatterternary": [
           {
            "marker": {
             "colorbar": {
              "outlinewidth": 0,
              "ticks": ""
             }
            },
            "type": "scatterternary"
           }
          ],
          "surface": [
           {
            "colorbar": {
             "outlinewidth": 0,
             "ticks": ""
            },
            "colorscale": [
             [
              0,
              "#0d0887"
             ],
             [
              0.1111111111111111,
              "#46039f"
             ],
             [
              0.2222222222222222,
              "#7201a8"
             ],
             [
              0.3333333333333333,
              "#9c179e"
             ],
             [
              0.4444444444444444,
              "#bd3786"
             ],
             [
              0.5555555555555556,
              "#d8576b"
             ],
             [
              0.6666666666666666,
              "#ed7953"
             ],
             [
              0.7777777777777778,
              "#fb9f3a"
             ],
             [
              0.8888888888888888,
              "#fdca26"
             ],
             [
              1,
              "#f0f921"
             ]
            ],
            "type": "surface"
           }
          ],
          "table": [
           {
            "cells": {
             "fill": {
              "color": "#EBF0F8"
             },
             "line": {
              "color": "white"
             }
            },
            "header": {
             "fill": {
              "color": "#C8D4E3"
             },
             "line": {
              "color": "white"
             }
            },
            "type": "table"
           }
          ]
         },
         "layout": {
          "annotationdefaults": {
           "arrowcolor": "#2a3f5f",
           "arrowhead": 0,
           "arrowwidth": 1
          },
          "autotypenumbers": "strict",
          "coloraxis": {
           "colorbar": {
            "outlinewidth": 0,
            "ticks": ""
           }
          },
          "colorscale": {
           "diverging": [
            [
             0,
             "#8e0152"
            ],
            [
             0.1,
             "#c51b7d"
            ],
            [
             0.2,
             "#de77ae"
            ],
            [
             0.3,
             "#f1b6da"
            ],
            [
             0.4,
             "#fde0ef"
            ],
            [
             0.5,
             "#f7f7f7"
            ],
            [
             0.6,
             "#e6f5d0"
            ],
            [
             0.7,
             "#b8e186"
            ],
            [
             0.8,
             "#7fbc41"
            ],
            [
             0.9,
             "#4d9221"
            ],
            [
             1,
             "#276419"
            ]
           ],
           "sequential": [
            [
             0,
             "#0d0887"
            ],
            [
             0.1111111111111111,
             "#46039f"
            ],
            [
             0.2222222222222222,
             "#7201a8"
            ],
            [
             0.3333333333333333,
             "#9c179e"
            ],
            [
             0.4444444444444444,
             "#bd3786"
            ],
            [
             0.5555555555555556,
             "#d8576b"
            ],
            [
             0.6666666666666666,
             "#ed7953"
            ],
            [
             0.7777777777777778,
             "#fb9f3a"
            ],
            [
             0.8888888888888888,
             "#fdca26"
            ],
            [
             1,
             "#f0f921"
            ]
           ],
           "sequentialminus": [
            [
             0,
             "#0d0887"
            ],
            [
             0.1111111111111111,
             "#46039f"
            ],
            [
             0.2222222222222222,
             "#7201a8"
            ],
            [
             0.3333333333333333,
             "#9c179e"
            ],
            [
             0.4444444444444444,
             "#bd3786"
            ],
            [
             0.5555555555555556,
             "#d8576b"
            ],
            [
             0.6666666666666666,
             "#ed7953"
            ],
            [
             0.7777777777777778,
             "#fb9f3a"
            ],
            [
             0.8888888888888888,
             "#fdca26"
            ],
            [
             1,
             "#f0f921"
            ]
           ]
          },
          "colorway": [
           "#636efa",
           "#EF553B",
           "#00cc96",
           "#ab63fa",
           "#FFA15A",
           "#19d3f3",
           "#FF6692",
           "#B6E880",
           "#FF97FF",
           "#FECB52"
          ],
          "font": {
           "color": "#2a3f5f"
          },
          "geo": {
           "bgcolor": "white",
           "lakecolor": "white",
           "landcolor": "#E5ECF6",
           "showlakes": true,
           "showland": true,
           "subunitcolor": "white"
          },
          "hoverlabel": {
           "align": "left"
          },
          "hovermode": "closest",
          "mapbox": {
           "style": "light"
          },
          "paper_bgcolor": "white",
          "plot_bgcolor": "#E5ECF6",
          "polar": {
           "angularaxis": {
            "gridcolor": "white",
            "linecolor": "white",
            "ticks": ""
           },
           "bgcolor": "#E5ECF6",
           "radialaxis": {
            "gridcolor": "white",
            "linecolor": "white",
            "ticks": ""
           }
          },
          "scene": {
           "xaxis": {
            "backgroundcolor": "#E5ECF6",
            "gridcolor": "white",
            "gridwidth": 2,
            "linecolor": "white",
            "showbackground": true,
            "ticks": "",
            "zerolinecolor": "white"
           },
           "yaxis": {
            "backgroundcolor": "#E5ECF6",
            "gridcolor": "white",
            "gridwidth": 2,
            "linecolor": "white",
            "showbackground": true,
            "ticks": "",
            "zerolinecolor": "white"
           },
           "zaxis": {
            "backgroundcolor": "#E5ECF6",
            "gridcolor": "white",
            "gridwidth": 2,
            "linecolor": "white",
            "showbackground": true,
            "ticks": "",
            "zerolinecolor": "white"
           }
          },
          "shapedefaults": {
           "line": {
            "color": "#2a3f5f"
           }
          },
          "ternary": {
           "aaxis": {
            "gridcolor": "white",
            "linecolor": "white",
            "ticks": ""
           },
           "baxis": {
            "gridcolor": "white",
            "linecolor": "white",
            "ticks": ""
           },
           "bgcolor": "#E5ECF6",
           "caxis": {
            "gridcolor": "white",
            "linecolor": "white",
            "ticks": ""
           }
          },
          "title": {
           "x": 0.05
          },
          "xaxis": {
           "automargin": true,
           "gridcolor": "white",
           "linecolor": "white",
           "ticks": "",
           "title": {
            "standoff": 15
           },
           "zerolinecolor": "white",
           "zerolinewidth": 2
          },
          "yaxis": {
           "automargin": true,
           "gridcolor": "white",
           "linecolor": "white",
           "ticks": "",
           "title": {
            "standoff": 15
           },
           "zerolinecolor": "white",
           "zerolinewidth": 2
          }
         }
        },
        "title": {
         "font": {
          "color": "white",
          "size": 20
         },
         "text": "CAPM - Capital Asset Pricing Model",
         "x": 0.41,
         "y": 0.9
        },
        "width": 700,
        "xaxis": {
         "dtick": 0.4,
         "gridcolor": "rgba(255, 255, 255, 0.1)",
         "linecolor": "white",
         "showgrid": true,
         "tickcolor": "white",
         "tickfont": {
          "color": "white"
         },
         "ticks": "outside",
         "title": {
          "font": {
           "color": "white"
          },
          "text": "Beta (Riesgo Sistemático)"
         }
        },
        "yaxis": {
         "dtick": 0.02,
         "gridcolor": "rgba(255, 255, 255, 0.1)",
         "linecolor": "white",
         "showgrid": true,
         "tickcolor": "white",
         "tickfont": {
          "color": "white"
         },
         "ticks": "outside",
         "title": {
          "font": {
           "color": "white"
          },
          "text": "Rentabilidad Esperada"
         }
        }
       }
      }
     },
     "metadata": {},
     "output_type": "display_data"
    }
   ],
   "source": [
    "plot_capm_line(Rf=alpha_jensen_df, Rm=float(Rm), B=beta_values_df)"
   ]
  },
  {
   "cell_type": "code",
   "execution_count": 73,
   "metadata": {},
   "outputs": [
    {
     "data": {
      "text/plain": [
       "[0.061054390845951205,\n",
       " -0.0757856709440957,\n",
       " 0.09712261183386371,\n",
       " 0.02829831590571676,\n",
       " -0.011880323337159946,\n",
       " 0.03342337080558283,\n",
       " 0.03751901299133118,\n",
       " 0.054533217626284734,\n",
       " 0.04774070588383089,\n",
       " 0.009464236853057353,\n",
       " -0.10122611608942361,\n",
       " -0.16002836093665596,\n",
       " 0.16485189305207115,\n",
       " 0.0684048153006957,\n",
       " 0.0349459531973837,\n",
       " 0.08040740294907855,\n",
       " 0.09848429700610097,\n",
       " -0.039813891565466795,\n",
       " -0.024458173803876614,\n",
       " 0.14267738263743693,\n",
       " 0.05834413093720495,\n",
       " -0.002820049675096042,\n",
       " 0.044618993626834816,\n",
       " 0.06490847127649291,\n",
       " 0.07714757948503043,\n",
       " 0.018579410476599296,\n",
       " 0.03975904278977649,\n",
       " 0.04042950393072355,\n",
       " 0.04824054712781356,\n",
       " -0.05100700703244791,\n",
       " 0.097379182199399,\n",
       " 0.0008133719367344935,\n",
       " 0.06635367079761649,\n",
       " -0.0577853053514181,\n",
       " -0.02934516451254502,\n",
       " 0.05667439231602927,\n",
       " -0.1066281368502678,\n",
       " 0.011624121810854933,\n",
       " -0.10095917195749501,\n",
       " 0.12349299370116562,\n",
       " -0.04411276203843613,\n",
       " -0.11430615986623587,\n",
       " 0.11018549714440105,\n",
       " 0.07876582278603292,\n",
       " -0.06646747792491214,\n",
       " 0.08847442505316992,\n",
       " -0.022409174765151783,\n",
       " 0.055779687924650954,\n",
       " 0.030215405020922532,\n",
       " 0.014738408744315484,\n",
       " 0.09206570542311308,\n",
       " 0.05091801995285109,\n",
       " -0.011389864331031367,\n",
       " -0.0525581526757809,\n",
       " -0.016973329682560934,\n",
       " 0.12121200727478945,\n",
       " 0.06711152869407065,\n",
       " 0.03180010700488035,\n",
       " 0.05862056823710432]"
      ]
     },
     "execution_count": 73,
     "metadata": {},
     "output_type": "execute_result"
    }
   ],
   "source": [
    "regression_data['y']"
   ]
  }
 ],
 "metadata": {
  "kernelspec": {
   "display_name": "Python 3",
   "language": "python",
   "name": "python3"
  },
  "language_info": {
   "codemirror_mode": {
    "name": "ipython",
    "version": 3
   },
   "file_extension": ".py",
   "mimetype": "text/x-python",
   "name": "python",
   "nbconvert_exporter": "python",
   "pygments_lexer": "ipython3",
   "version": "3.11.5"
  }
 },
 "nbformat": 4,
 "nbformat_minor": 2
}
