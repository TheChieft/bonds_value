{
 "cells": [
  {
   "cell_type": "code",
   "execution_count": 1,
   "metadata": {},
   "outputs": [],
   "source": [
    "import plotly.graph_objects as go\n",
    "import numpy as np\n",
    "\n",
    "def plot_capm_line(Rf, Rm, B):\n",
    "    '''\n",
    "    Parámetros:\n",
    "    Rf -> Tasa libre de riesgo\n",
    "    Rm -> Tasa de mercado\n",
    "    B -> Riesgo Sistemático\n",
    "\n",
    "    Ejemplo:\n",
    "\n",
    "    plot_capm_line(Rf=0.14, Rm=0.20, B=1.4)\n",
    "    '''\n",
    "    # Esto es por maña a que se vea más bonito jsjs\n",
    "    if B <= 4 and B >= 0:\n",
    "      beta_values = np.linspace(0, 4)\n",
    "    elif B<0 and B>=-3:\n",
    "      beta_values = np.linspace(0, -3)\n",
    "    else:\n",
    "      beta_values = np.linspace(0, B)\n",
    "\n",
    "    SML_values = Rf + beta_values * (Rm - Rf)\n",
    "\n",
    "    fig = go.Figure()\n",
    "\n",
    "    fig.add_trace(go.Scatter(x=beta_values, y=SML_values, mode='lines', line=dict(color='red' if B<0 or Rf>Rm else 'green', width=4), name='SML'))\n",
    "    # Agrega el punto de corte\n",
    "    fig.add_trace(go.Scatter(x=[B], y=[Rf + B * (Rm - Rf)], mode='markers', marker=dict(color='blue' if B<0 or Rf>Rm else 'red', size=10), name='Rentabilidad Esperada'))\n",
    "\n",
    "    fig.update_xaxes(tickcolor='white', tickfont=dict(color='white'),\n",
    "                     title=dict(text='Beta (Riesgo Sistemático)', font=dict(color='white')), dtick=0.4)\n",
    "    fig.update_yaxes(tickcolor='white', tickfont=dict(color='white'),\n",
    "                     title=dict(text='Rentabilidad Esperada', font=dict(color='white')), dtick= 0.02 if Rf!=Rm else 0.4 )\n",
    "\n",
    "    # Ajusta el título general\n",
    "    fig.update_layout(\n",
    "        title=dict(\n",
    "            text='CAPM - Capital Asset Pricing Model',\n",
    "            font=dict(color='white', size=20),\n",
    "            x=0.41,\n",
    "            y=0.9\n",
    "        ),\n",
    "        showlegend=True,\n",
    "        legend=dict(font=dict(color='white')),\n",
    "        width=700,\n",
    "        height=500\n",
    "    )\n",
    "\n",
    "    # Ajusta el diseño financiero\n",
    "    fig.update_layout(\n",
    "        paper_bgcolor='rgba(0,0,0,0)',  # Fondo del papel transparente\n",
    "        plot_bgcolor='rgba(0,0,0,0)',   # Fondo del gráfico transparente\n",
    "        xaxis_showgrid=True,\n",
    "        yaxis_showgrid=True,\n",
    "        xaxis_ticks='outside',\n",
    "        yaxis_ticks='outside',\n",
    "        xaxis_linecolor='white',\n",
    "        yaxis_linecolor='white',\n",
    "        showlegend=True,\n",
    "        xaxis_gridcolor='rgba(255, 255, 255, 0.1)',  # Color de la cuadrícula del eje x con alpha\n",
    "        yaxis_gridcolor='rgba(255, 255, 255, 0.1)'  # Color de la cuadrícula del eje x con alpha\n",
    "    )\n",
    "\n",
    "    fig.show()"
   ]
  },
  {
   "cell_type": "code",
   "execution_count": 2,
   "metadata": {},
   "outputs": [
    {
     "data": {
      "application/vnd.plotly.v1+json": {
       "config": {
        "plotlyServerURL": "https://plot.ly"
       },
       "data": [
        {
         "line": {
          "color": "green",
          "width": 4
         },
         "mode": "lines",
         "name": "SML",
         "type": "scatter",
         "x": [
          0,
          0.08163265306122448,
          0.16326530612244897,
          0.24489795918367346,
          0.32653061224489793,
          0.4081632653061224,
          0.4897959183673469,
          0.5714285714285714,
          0.6530612244897959,
          0.7346938775510203,
          0.8163265306122448,
          0.8979591836734693,
          0.9795918367346939,
          1.0612244897959182,
          1.1428571428571428,
          1.2244897959183672,
          1.3061224489795917,
          1.3877551020408163,
          1.4693877551020407,
          1.5510204081632653,
          1.6326530612244896,
          1.7142857142857142,
          1.7959183673469385,
          1.8775510204081631,
          1.9591836734693877,
          2.0408163265306123,
          2.1224489795918364,
          2.204081632653061,
          2.2857142857142856,
          2.36734693877551,
          2.4489795918367343,
          2.530612244897959,
          2.6122448979591835,
          2.693877551020408,
          2.7755102040816326,
          2.8571428571428568,
          2.9387755102040813,
          3.020408163265306,
          3.1020408163265305,
          3.1836734693877546,
          3.265306122448979,
          3.346938775510204,
          3.4285714285714284,
          3.510204081632653,
          3.591836734693877,
          3.6734693877551017,
          3.7551020408163263,
          3.836734693877551,
          3.9183673469387754,
          4
         ],
         "y": [
          0.12,
          0.12244897959183673,
          0.12489795918367347,
          0.1273469387755102,
          0.12979591836734694,
          0.13224489795918368,
          0.1346938775510204,
          0.13714285714285712,
          0.13959183673469389,
          0.1420408163265306,
          0.14448979591836733,
          0.14693877551020407,
          0.1493877551020408,
          0.15183673469387754,
          0.15428571428571428,
          0.156734693877551,
          0.15918367346938775,
          0.16163265306122448,
          0.16408163265306122,
          0.16653061224489796,
          0.16897959183673467,
          0.17142857142857143,
          0.17387755102040814,
          0.1763265306122449,
          0.1787755102040816,
          0.18122448979591838,
          0.18367346938775508,
          0.18612244897959182,
          0.18857142857142856,
          0.1910204081632653,
          0.19346938775510203,
          0.19591836734693877,
          0.1983673469387755,
          0.20081632653061224,
          0.20326530612244897,
          0.20571428571428568,
          0.20816326530612245,
          0.21061224489795916,
          0.21306122448979592,
          0.21551020408163263,
          0.21795918367346936,
          0.2204081632653061,
          0.22285714285714284,
          0.22530612244897957,
          0.2277551020408163,
          0.23020408163265305,
          0.23265306122448978,
          0.23510204081632652,
          0.23755102040816325,
          0.24
         ]
        },
        {
         "marker": {
          "color": "red",
          "size": 10
         },
         "mode": "markers",
         "name": "Rentabilidad Esperada",
         "type": "scatter",
         "x": [
          0.5
         ],
         "y": [
          0.135
         ]
        }
       ],
       "layout": {
        "height": 500,
        "legend": {
         "font": {
          "color": "white"
         }
        },
        "paper_bgcolor": "rgba(0,0,0,0)",
        "plot_bgcolor": "rgba(0,0,0,0)",
        "showlegend": true,
        "template": {
         "data": {
          "bar": [
           {
            "error_x": {
             "color": "#2a3f5f"
            },
            "error_y": {
             "color": "#2a3f5f"
            },
            "marker": {
             "line": {
              "color": "#E5ECF6",
              "width": 0.5
             },
             "pattern": {
              "fillmode": "overlay",
              "size": 10,
              "solidity": 0.2
             }
            },
            "type": "bar"
           }
          ],
          "barpolar": [
           {
            "marker": {
             "line": {
              "color": "#E5ECF6",
              "width": 0.5
             },
             "pattern": {
              "fillmode": "overlay",
              "size": 10,
              "solidity": 0.2
             }
            },
            "type": "barpolar"
           }
          ],
          "carpet": [
           {
            "aaxis": {
             "endlinecolor": "#2a3f5f",
             "gridcolor": "white",
             "linecolor": "white",
             "minorgridcolor": "white",
             "startlinecolor": "#2a3f5f"
            },
            "baxis": {
             "endlinecolor": "#2a3f5f",
             "gridcolor": "white",
             "linecolor": "white",
             "minorgridcolor": "white",
             "startlinecolor": "#2a3f5f"
            },
            "type": "carpet"
           }
          ],
          "choropleth": [
           {
            "colorbar": {
             "outlinewidth": 0,
             "ticks": ""
            },
            "type": "choropleth"
           }
          ],
          "contour": [
           {
            "colorbar": {
             "outlinewidth": 0,
             "ticks": ""
            },
            "colorscale": [
             [
              0,
              "#0d0887"
             ],
             [
              0.1111111111111111,
              "#46039f"
             ],
             [
              0.2222222222222222,
              "#7201a8"
             ],
             [
              0.3333333333333333,
              "#9c179e"
             ],
             [
              0.4444444444444444,
              "#bd3786"
             ],
             [
              0.5555555555555556,
              "#d8576b"
             ],
             [
              0.6666666666666666,
              "#ed7953"
             ],
             [
              0.7777777777777778,
              "#fb9f3a"
             ],
             [
              0.8888888888888888,
              "#fdca26"
             ],
             [
              1,
              "#f0f921"
             ]
            ],
            "type": "contour"
           }
          ],
          "contourcarpet": [
           {
            "colorbar": {
             "outlinewidth": 0,
             "ticks": ""
            },
            "type": "contourcarpet"
           }
          ],
          "heatmap": [
           {
            "colorbar": {
             "outlinewidth": 0,
             "ticks": ""
            },
            "colorscale": [
             [
              0,
              "#0d0887"
             ],
             [
              0.1111111111111111,
              "#46039f"
             ],
             [
              0.2222222222222222,
              "#7201a8"
             ],
             [
              0.3333333333333333,
              "#9c179e"
             ],
             [
              0.4444444444444444,
              "#bd3786"
             ],
             [
              0.5555555555555556,
              "#d8576b"
             ],
             [
              0.6666666666666666,
              "#ed7953"
             ],
             [
              0.7777777777777778,
              "#fb9f3a"
             ],
             [
              0.8888888888888888,
              "#fdca26"
             ],
             [
              1,
              "#f0f921"
             ]
            ],
            "type": "heatmap"
           }
          ],
          "heatmapgl": [
           {
            "colorbar": {
             "outlinewidth": 0,
             "ticks": ""
            },
            "colorscale": [
             [
              0,
              "#0d0887"
             ],
             [
              0.1111111111111111,
              "#46039f"
             ],
             [
              0.2222222222222222,
              "#7201a8"
             ],
             [
              0.3333333333333333,
              "#9c179e"
             ],
             [
              0.4444444444444444,
              "#bd3786"
             ],
             [
              0.5555555555555556,
              "#d8576b"
             ],
             [
              0.6666666666666666,
              "#ed7953"
             ],
             [
              0.7777777777777778,
              "#fb9f3a"
             ],
             [
              0.8888888888888888,
              "#fdca26"
             ],
             [
              1,
              "#f0f921"
             ]
            ],
            "type": "heatmapgl"
           }
          ],
          "histogram": [
           {
            "marker": {
             "pattern": {
              "fillmode": "overlay",
              "size": 10,
              "solidity": 0.2
             }
            },
            "type": "histogram"
           }
          ],
          "histogram2d": [
           {
            "colorbar": {
             "outlinewidth": 0,
             "ticks": ""
            },
            "colorscale": [
             [
              0,
              "#0d0887"
             ],
             [
              0.1111111111111111,
              "#46039f"
             ],
             [
              0.2222222222222222,
              "#7201a8"
             ],
             [
              0.3333333333333333,
              "#9c179e"
             ],
             [
              0.4444444444444444,
              "#bd3786"
             ],
             [
              0.5555555555555556,
              "#d8576b"
             ],
             [
              0.6666666666666666,
              "#ed7953"
             ],
             [
              0.7777777777777778,
              "#fb9f3a"
             ],
             [
              0.8888888888888888,
              "#fdca26"
             ],
             [
              1,
              "#f0f921"
             ]
            ],
            "type": "histogram2d"
           }
          ],
          "histogram2dcontour": [
           {
            "colorbar": {
             "outlinewidth": 0,
             "ticks": ""
            },
            "colorscale": [
             [
              0,
              "#0d0887"
             ],
             [
              0.1111111111111111,
              "#46039f"
             ],
             [
              0.2222222222222222,
              "#7201a8"
             ],
             [
              0.3333333333333333,
              "#9c179e"
             ],
             [
              0.4444444444444444,
              "#bd3786"
             ],
             [
              0.5555555555555556,
              "#d8576b"
             ],
             [
              0.6666666666666666,
              "#ed7953"
             ],
             [
              0.7777777777777778,
              "#fb9f3a"
             ],
             [
              0.8888888888888888,
              "#fdca26"
             ],
             [
              1,
              "#f0f921"
             ]
            ],
            "type": "histogram2dcontour"
           }
          ],
          "mesh3d": [
           {
            "colorbar": {
             "outlinewidth": 0,
             "ticks": ""
            },
            "type": "mesh3d"
           }
          ],
          "parcoords": [
           {
            "line": {
             "colorbar": {
              "outlinewidth": 0,
              "ticks": ""
             }
            },
            "type": "parcoords"
           }
          ],
          "pie": [
           {
            "automargin": true,
            "type": "pie"
           }
          ],
          "scatter": [
           {
            "fillpattern": {
             "fillmode": "overlay",
             "size": 10,
             "solidity": 0.2
            },
            "type": "scatter"
           }
          ],
          "scatter3d": [
           {
            "line": {
             "colorbar": {
              "outlinewidth": 0,
              "ticks": ""
             }
            },
            "marker": {
             "colorbar": {
              "outlinewidth": 0,
              "ticks": ""
             }
            },
            "type": "scatter3d"
           }
          ],
          "scattercarpet": [
           {
            "marker": {
             "colorbar": {
              "outlinewidth": 0,
              "ticks": ""
             }
            },
            "type": "scattercarpet"
           }
          ],
          "scattergeo": [
           {
            "marker": {
             "colorbar": {
              "outlinewidth": 0,
              "ticks": ""
             }
            },
            "type": "scattergeo"
           }
          ],
          "scattergl": [
           {
            "marker": {
             "colorbar": {
              "outlinewidth": 0,
              "ticks": ""
             }
            },
            "type": "scattergl"
           }
          ],
          "scattermapbox": [
           {
            "marker": {
             "colorbar": {
              "outlinewidth": 0,
              "ticks": ""
             }
            },
            "type": "scattermapbox"
           }
          ],
          "scatterpolar": [
           {
            "marker": {
             "colorbar": {
              "outlinewidth": 0,
              "ticks": ""
             }
            },
            "type": "scatterpolar"
           }
          ],
          "scatterpolargl": [
           {
            "marker": {
             "colorbar": {
              "outlinewidth": 0,
              "ticks": ""
             }
            },
            "type": "scatterpolargl"
           }
          ],
          "scatterternary": [
           {
            "marker": {
             "colorbar": {
              "outlinewidth": 0,
              "ticks": ""
             }
            },
            "type": "scatterternary"
           }
          ],
          "surface": [
           {
            "colorbar": {
             "outlinewidth": 0,
             "ticks": ""
            },
            "colorscale": [
             [
              0,
              "#0d0887"
             ],
             [
              0.1111111111111111,
              "#46039f"
             ],
             [
              0.2222222222222222,
              "#7201a8"
             ],
             [
              0.3333333333333333,
              "#9c179e"
             ],
             [
              0.4444444444444444,
              "#bd3786"
             ],
             [
              0.5555555555555556,
              "#d8576b"
             ],
             [
              0.6666666666666666,
              "#ed7953"
             ],
             [
              0.7777777777777778,
              "#fb9f3a"
             ],
             [
              0.8888888888888888,
              "#fdca26"
             ],
             [
              1,
              "#f0f921"
             ]
            ],
            "type": "surface"
           }
          ],
          "table": [
           {
            "cells": {
             "fill": {
              "color": "#EBF0F8"
             },
             "line": {
              "color": "white"
             }
            },
            "header": {
             "fill": {
              "color": "#C8D4E3"
             },
             "line": {
              "color": "white"
             }
            },
            "type": "table"
           }
          ]
         },
         "layout": {
          "annotationdefaults": {
           "arrowcolor": "#2a3f5f",
           "arrowhead": 0,
           "arrowwidth": 1
          },
          "autotypenumbers": "strict",
          "coloraxis": {
           "colorbar": {
            "outlinewidth": 0,
            "ticks": ""
           }
          },
          "colorscale": {
           "diverging": [
            [
             0,
             "#8e0152"
            ],
            [
             0.1,
             "#c51b7d"
            ],
            [
             0.2,
             "#de77ae"
            ],
            [
             0.3,
             "#f1b6da"
            ],
            [
             0.4,
             "#fde0ef"
            ],
            [
             0.5,
             "#f7f7f7"
            ],
            [
             0.6,
             "#e6f5d0"
            ],
            [
             0.7,
             "#b8e186"
            ],
            [
             0.8,
             "#7fbc41"
            ],
            [
             0.9,
             "#4d9221"
            ],
            [
             1,
             "#276419"
            ]
           ],
           "sequential": [
            [
             0,
             "#0d0887"
            ],
            [
             0.1111111111111111,
             "#46039f"
            ],
            [
             0.2222222222222222,
             "#7201a8"
            ],
            [
             0.3333333333333333,
             "#9c179e"
            ],
            [
             0.4444444444444444,
             "#bd3786"
            ],
            [
             0.5555555555555556,
             "#d8576b"
            ],
            [
             0.6666666666666666,
             "#ed7953"
            ],
            [
             0.7777777777777778,
             "#fb9f3a"
            ],
            [
             0.8888888888888888,
             "#fdca26"
            ],
            [
             1,
             "#f0f921"
            ]
           ],
           "sequentialminus": [
            [
             0,
             "#0d0887"
            ],
            [
             0.1111111111111111,
             "#46039f"
            ],
            [
             0.2222222222222222,
             "#7201a8"
            ],
            [
             0.3333333333333333,
             "#9c179e"
            ],
            [
             0.4444444444444444,
             "#bd3786"
            ],
            [
             0.5555555555555556,
             "#d8576b"
            ],
            [
             0.6666666666666666,
             "#ed7953"
            ],
            [
             0.7777777777777778,
             "#fb9f3a"
            ],
            [
             0.8888888888888888,
             "#fdca26"
            ],
            [
             1,
             "#f0f921"
            ]
           ]
          },
          "colorway": [
           "#636efa",
           "#EF553B",
           "#00cc96",
           "#ab63fa",
           "#FFA15A",
           "#19d3f3",
           "#FF6692",
           "#B6E880",
           "#FF97FF",
           "#FECB52"
          ],
          "font": {
           "color": "#2a3f5f"
          },
          "geo": {
           "bgcolor": "white",
           "lakecolor": "white",
           "landcolor": "#E5ECF6",
           "showlakes": true,
           "showland": true,
           "subunitcolor": "white"
          },
          "hoverlabel": {
           "align": "left"
          },
          "hovermode": "closest",
          "mapbox": {
           "style": "light"
          },
          "paper_bgcolor": "white",
          "plot_bgcolor": "#E5ECF6",
          "polar": {
           "angularaxis": {
            "gridcolor": "white",
            "linecolor": "white",
            "ticks": ""
           },
           "bgcolor": "#E5ECF6",
           "radialaxis": {
            "gridcolor": "white",
            "linecolor": "white",
            "ticks": ""
           }
          },
          "scene": {
           "xaxis": {
            "backgroundcolor": "#E5ECF6",
            "gridcolor": "white",
            "gridwidth": 2,
            "linecolor": "white",
            "showbackground": true,
            "ticks": "",
            "zerolinecolor": "white"
           },
           "yaxis": {
            "backgroundcolor": "#E5ECF6",
            "gridcolor": "white",
            "gridwidth": 2,
            "linecolor": "white",
            "showbackground": true,
            "ticks": "",
            "zerolinecolor": "white"
           },
           "zaxis": {
            "backgroundcolor": "#E5ECF6",
            "gridcolor": "white",
            "gridwidth": 2,
            "linecolor": "white",
            "showbackground": true,
            "ticks": "",
            "zerolinecolor": "white"
           }
          },
          "shapedefaults": {
           "line": {
            "color": "#2a3f5f"
           }
          },
          "ternary": {
           "aaxis": {
            "gridcolor": "white",
            "linecolor": "white",
            "ticks": ""
           },
           "baxis": {
            "gridcolor": "white",
            "linecolor": "white",
            "ticks": ""
           },
           "bgcolor": "#E5ECF6",
           "caxis": {
            "gridcolor": "white",
            "linecolor": "white",
            "ticks": ""
           }
          },
          "title": {
           "x": 0.05
          },
          "xaxis": {
           "automargin": true,
           "gridcolor": "white",
           "linecolor": "white",
           "ticks": "",
           "title": {
            "standoff": 15
           },
           "zerolinecolor": "white",
           "zerolinewidth": 2
          },
          "yaxis": {
           "automargin": true,
           "gridcolor": "white",
           "linecolor": "white",
           "ticks": "",
           "title": {
            "standoff": 15
           },
           "zerolinecolor": "white",
           "zerolinewidth": 2
          }
         }
        },
        "title": {
         "font": {
          "color": "white",
          "size": 20
         },
         "text": "CAPM - Capital Asset Pricing Model",
         "x": 0.41,
         "y": 0.9
        },
        "width": 700,
        "xaxis": {
         "dtick": 0.4,
         "gridcolor": "rgba(255, 255, 255, 0.1)",
         "linecolor": "white",
         "showgrid": true,
         "tickcolor": "white",
         "tickfont": {
          "color": "white"
         },
         "ticks": "outside",
         "title": {
          "font": {
           "color": "white"
          },
          "text": "Beta (Riesgo Sistemático)"
         }
        },
        "yaxis": {
         "dtick": 0.02,
         "gridcolor": "rgba(255, 255, 255, 0.1)",
         "linecolor": "white",
         "showgrid": true,
         "tickcolor": "white",
         "tickfont": {
          "color": "white"
         },
         "ticks": "outside",
         "title": {
          "font": {
           "color": "white"
          },
          "text": "Rentabilidad Esperada"
         }
        }
       }
      }
     },
     "metadata": {},
     "output_type": "display_data"
    }
   ],
   "source": [
    "plot_capm_line(Rf=0.12, Rm=0.15, B=0.5)"
   ]
  },
  {
   "cell_type": "code",
   "execution_count": null,
   "metadata": {},
   "outputs": [],
   "source": []
  }
 ],
 "metadata": {
  "kernelspec": {
   "display_name": "Python 3",
   "language": "python",
   "name": "python3"
  },
  "language_info": {
   "codemirror_mode": {
    "name": "ipython",
    "version": 3
   },
   "file_extension": ".py",
   "mimetype": "text/x-python",
   "name": "python",
   "nbconvert_exporter": "python",
   "pygments_lexer": "ipython3",
   "version": "3.11.7"
  }
 },
 "nbformat": 4,
 "nbformat_minor": 2
}
