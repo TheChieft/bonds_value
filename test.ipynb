{
 "cells": [
  {
   "cell_type": "code",
   "execution_count": 40,
   "metadata": {},
   "outputs": [],
   "source": [
    "import pandas as pd\n",
    "import numpy as np"
   ]
  },
  {
   "cell_type": "code",
   "execution_count": 45,
   "metadata": {},
   "outputs": [
    {
     "data": {
      "text/html": [
       "<div>\n",
       "<style scoped>\n",
       "    .dataframe tbody tr th:only-of-type {\n",
       "        vertical-align: middle;\n",
       "    }\n",
       "\n",
       "    .dataframe tbody tr th {\n",
       "        vertical-align: top;\n",
       "    }\n",
       "\n",
       "    .dataframe thead th {\n",
       "        text-align: right;\n",
       "    }\n",
       "</style>\n",
       "<table border=\"1\" class=\"dataframe\">\n",
       "  <thead>\n",
       "    <tr style=\"text-align: right;\">\n",
       "      <th></th>\n",
       "      <th>Nemotécnico</th>\n",
       "      <th>Emisor</th>\n",
       "      <th>Clase de título</th>\n",
       "      <th>Fecha de vencimiento</th>\n",
       "      <th>Cantidad</th>\n",
       "      <th>Volúmenes</th>\n",
       "      <th>Tipo</th>\n",
       "      <th>Codigo</th>\n",
       "    </tr>\n",
       "  </thead>\n",
       "  <tbody>\n",
       "    <tr>\n",
       "      <th>0</th>\n",
       "      <td>TDAIBRA</td>\n",
       "      <td>FINAGRO</td>\n",
       "      <td>-</td>\n",
       "      <td>-</td>\n",
       "      <td>240208513000</td>\n",
       "      <td>240208513000</td>\n",
       "      <td>CONTADO</td>\n",
       "      <td>TDAIBRA-2024012920250129Qr11.7580</td>\n",
       "    </tr>\n",
       "    <tr>\n",
       "      <th>1</th>\n",
       "      <td>TFIT16181034</td>\n",
       "      <td>GOBIERNO NACIONAL</td>\n",
       "      <td>TITULOS TES</td>\n",
       "      <td>Tue Oct 17 2034 19:00:00 GMT-0500 (Colombia St...</td>\n",
       "      <td>214727600000</td>\n",
       "      <td>184683639866</td>\n",
       "      <td>CONTADO</td>\n",
       "      <td>TFIT16181034</td>\n",
       "    </tr>\n",
       "    <tr>\n",
       "      <th>2</th>\n",
       "      <td>TFIT15260826</td>\n",
       "      <td>GOBIERNO NACIONAL</td>\n",
       "      <td>TITULOS TES</td>\n",
       "      <td>Tue Aug 25 2026 19:00:00 GMT-0500 (Colombia St...</td>\n",
       "      <td>173800000000</td>\n",
       "      <td>173635700000</td>\n",
       "      <td>CONTADO</td>\n",
       "      <td>TFIT15260826</td>\n",
       "    </tr>\n",
       "    <tr>\n",
       "      <th>3</th>\n",
       "      <td>TFIT16240724</td>\n",
       "      <td>GOBIERNO NACIONAL</td>\n",
       "      <td>TITULOS TES</td>\n",
       "      <td>Tue Jul 23 2024 19:00:00 GMT-0500 (Colombia St...</td>\n",
       "      <td>140500000000</td>\n",
       "      <td>147426510500</td>\n",
       "      <td>CONTADO</td>\n",
       "      <td>TFIT16240724</td>\n",
       "    </tr>\n",
       "    <tr>\n",
       "      <th>4</th>\n",
       "      <td>TFIT11090233</td>\n",
       "      <td>GOBIERNO NACIONAL</td>\n",
       "      <td>TITULOS TES</td>\n",
       "      <td>Tue Feb 08 2033 19:00:00 GMT-0500 (Colombia St...</td>\n",
       "      <td>79900000000</td>\n",
       "      <td>106640445300</td>\n",
       "      <td>CONTADO</td>\n",
       "      <td>TFIT11090233</td>\n",
       "    </tr>\n",
       "  </tbody>\n",
       "</table>\n",
       "</div>"
      ],
      "text/plain": [
       "    Nemotécnico             Emisor Clase de título  \\\n",
       "0       TDAIBRA            FINAGRO               -   \n",
       "1  TFIT16181034  GOBIERNO NACIONAL     TITULOS TES   \n",
       "2  TFIT15260826  GOBIERNO NACIONAL     TITULOS TES   \n",
       "3  TFIT16240724  GOBIERNO NACIONAL     TITULOS TES   \n",
       "4  TFIT11090233  GOBIERNO NACIONAL     TITULOS TES   \n",
       "\n",
       "                                Fecha de vencimiento      Cantidad  \\\n",
       "0                                                  -  240208513000   \n",
       "1  Tue Oct 17 2034 19:00:00 GMT-0500 (Colombia St...  214727600000   \n",
       "2  Tue Aug 25 2026 19:00:00 GMT-0500 (Colombia St...  173800000000   \n",
       "3  Tue Jul 23 2024 19:00:00 GMT-0500 (Colombia St...  140500000000   \n",
       "4  Tue Feb 08 2033 19:00:00 GMT-0500 (Colombia St...   79900000000   \n",
       "\n",
       "      Volúmenes     Tipo                             Codigo  \n",
       "0  240208513000  CONTADO  TDAIBRA-2024012920250129Qr11.7580  \n",
       "1  184683639866  CONTADO                       TFIT16181034  \n",
       "2  173635700000  CONTADO                       TFIT15260826  \n",
       "3  147426510500  CONTADO                       TFIT16240724  \n",
       "4  106640445300  CONTADO                       TFIT11090233  "
      ]
     },
     "execution_count": 45,
     "metadata": {},
     "output_type": "execute_result"
    }
   ],
   "source": [
    "# read csv sin la primera fila y agregarle los nombres de las coolumnasmnas\n",
    "columnas = ['Nemotécnico','Emisor','Clase de título','Fecha de vencimiento','Cantidad','Volúmenes','Tipo','Codigo']\n",
    "df = pd.read_csv('data/db/bonds_public.csv', skiprows=1, sep=';', names=columnas)\n",
    "df.head()\n"
   ]
  },
  {
   "cell_type": "code",
   "execution_count": 39,
   "metadata": {},
   "outputs": [
    {
     "data": {
      "text/plain": [
       "Nemotécnico             object\n",
       "Emisor                  object\n",
       "Clase de título         object\n",
       "Fecha de vencimiento    object\n",
       "Cantidad                 int64\n",
       "Volúmenes                int64\n",
       "Tipo                    object\n",
       "Codigo                  object\n",
       "dtype: object"
      ]
     },
     "execution_count": 39,
     "metadata": {},
     "output_type": "execute_result"
    }
   ],
   "source": [
    "# tipos de datos\n",
    "df.dtypes\n"
   ]
  }
 ],
 "metadata": {
  "kernelspec": {
   "display_name": "Python 3",
   "language": "python",
   "name": "python3"
  },
  "language_info": {
   "codemirror_mode": {
    "name": "ipython",
    "version": 3
   },
   "file_extension": ".py",
   "mimetype": "text/x-python",
   "name": "python",
   "nbconvert_exporter": "python",
   "pygments_lexer": "ipython3",
   "version": "3.11.7"
  }
 },
 "nbformat": 4,
 "nbformat_minor": 2
}
